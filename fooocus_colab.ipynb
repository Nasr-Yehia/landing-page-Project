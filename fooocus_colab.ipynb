{
  "cells": [
    {
      "cell_type": "markdown",
      "source": [
        "Prepare"
      ],
      "metadata": {
        "id": "UU4VQX2uMTJh"
      }
    },
    {
      "cell_type": "code",
      "execution_count": null,
      "metadata": {
        "id": "VjYy0F2gZIPR"
      },
      "outputs": [],
      "source": [
        "!pip install pygit2==1.15.1\n",
        "%cd /content\n",
        "!git clone https://github.com/mashb1t/Fooocus.git\n",
        "%cd /content/Fooocus"
      ]
    },
    {
      "cell_type": "markdown",
      "source": [
        "Run"
      ],
      "metadata": {
        "id": "NBIrweiOMYFl"
      }
    },
    {
      "cell_type": "code",
      "source": [
        "!wget -q --show-progress -O 'models/checkpoints/Fluently_XL_Final.safetensors' \"https://civitai.com/api/download/models/554349?type=Model&format=SafeTensor&size=pruned&fp=fp16&token=64cb1a77d60c9892244b73f20800094e\""
      ],
      "metadata": {
        "id": "FPp4u1IrTAk-"
      },
      "execution_count": null,
      "outputs": []
    },
    {
      "cell_type": "code",
      "source": [
        "!wget -q --show-progress -O 'models/loras/Ana_de_Armas_SDXL.safetensors' \"https://civitai.com/api/download/models/314453?type=Model&format=SafeTensor&token=64cb1a77d60c9892244b73f20800094e\""
      ],
      "metadata": {
        "id": "fS1kA6YSTCde"
      },
      "execution_count": null,
      "outputs": []
    },
    {
      "cell_type": "code",
      "source": [
        "!wget -q --show-progress -O 'models/checkpoints/Realistic_Stock_Photo.safetensors' \"https://civitai.com/api/download/models/294470?type=Model&format=SafeTensor&size=pruned&fp=fp16&token=64cb1a77d60c9892244b73f20800094e\""
      ],
      "metadata": {
        "id": "0m1sq_JXTFNA"
      },
      "execution_count": null,
      "outputs": []
    },
    {
      "cell_type": "code",
      "source": [
        "!wget -q --show-progress -O 'models/checkpoints/Realistic.Vision.V6.0.safetensors' \"https://civitai.com/api/download/models/130072?type=Model&format=SafeTensor&size=pruned&fp=fp16&token=64cb1a77d60c9892244b73f20800094e\""
      ],
      "metadata": {
        "id": "GqjsxY56S9qo"
      },
      "execution_count": null,
      "outputs": []
    },
    {
      "cell_type": "code",
      "source": [
        "!python entry_with_update.py --share --always-high-vram"
      ],
      "metadata": {
        "id": "gPZEYpsfMDxQ"
      },
      "execution_count": null,
      "outputs": []
    }
  ],
  "metadata": {
    "accelerator": "GPU",
    "colab": {
      "gpuType": "T4",
      "provenance": []
    },
    "kernelspec": {
      "display_name": "Python 3",
      "name": "python3"
    },
    "language_info": {
      "name": "python"
    }
  },
  "nbformat": 4,
  "nbformat_minor": 0
}