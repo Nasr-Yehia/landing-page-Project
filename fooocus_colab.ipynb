{
  "cells": [
    {
      "cell_type": "markdown",
      "source": [
        "Prepare"
      ],
      "metadata": {
        "id": "UU4VQX2uMTJh"
      }
    },
    {
      "cell_type": "code",
      "execution_count": null,
      "metadata": {
        "id": "VjYy0F2gZIPR"
      },
      "outputs": [],
      "source": [
        "!pip install pygit2==1.15.1\n",
        "%cd /content\n",
        "!git clone https://github.com/mashb1t/Fooocus.git\n",
        "%cd /content/Fooocus"
      ]
    },
    {
      "cell_type": "markdown",
      "source": [
        "Run"
      ],
      "metadata": {
        "id": "NBIrweiOMYFl"
      }
    },
    {
      "cell_type": "code",
      "source": [
        "!wget -q --show-progress -O 'models/checkpoints/Fluently_XL_Final.safetensors' \"https://civitai.com/api/download/models/554349?type=Model&format=SafeTensor&size=pruned&fp=fp16&token=64cb1a77d60c9892244b73f20800094e\""
      ],
      "metadata": {
        "id": "BAQ4wpLIULFf",
        "outputId": "252cd22e-3ca3-4afc-cc74-b16282a53f02",
        "colab": {
          "base_uri": "https://localhost:8080/"
        }
      },
      "execution_count": 2,
      "outputs": [
        {
          "output_type": "stream",
          "name": "stdout",
          "text": [
            "models/checkpoints/ 100%[===================>]   6.46G  65.2MB/s    in 2m 0s   \n"
          ]
        }
      ]
    },
    {
      "cell_type": "code",
      "source": [
        "!wget -q --show-progress -O 'models/checkpoints/Realistic.Vision.V6.0.safetensors' \"https://civitai.com/api/download/models/130072?type=Model&format=SafeTensor&size=pruned&fp=fp16&token=64cb1a77d60c9892244b73f20800094e\""
      ],
      "metadata": {
        "id": "6iyZMU-RUMsO",
        "outputId": "47bfa824-ed73-4b8d-b8b1-8e15b2a21c7d",
        "colab": {
          "base_uri": "https://localhost:8080/"
        }
      },
      "execution_count": 3,
      "outputs": [
        {
          "output_type": "stream",
          "name": "stdout",
          "text": [
            "models/checkpoints/ 100%[===================>]   1.99G  40.5MB/s    in 39s     \n"
          ]
        }
      ]
    },
    {
      "cell_type": "code",
      "source": [
        "!python entry_with_update.py --share --always-high-vram --theme 'dark'"
      ],
      "metadata": {
        "id": "gPZEYpsfMDxQ",
        "outputId": "c4b64eac-7a10-44b4-cb1c-43b37139061d",
        "colab": {
          "base_uri": "https://localhost:8080/"
        }
      },
      "execution_count": null,
      "outputs": [
        {
          "output_type": "stream",
          "name": "stdout",
          "text": [
            "Already up-to-date\n",
            "Update succeeded.\n",
            "[System ARGV] ['entry_with_update.py', '--share', '--always-high-vram']\n",
            "Python 3.11.12 (main, Apr  9 2025, 08:55:54) [GCC 11.4.0]\n",
            "Fooocus version: 2.6.5 (mashb1t)\n",
            "Error checking version for torchsde: No package metadata was found for torchsde\n",
            "Installing requirements\n"
          ]
        }
      ]
    }
  ],
  "metadata": {
    "accelerator": "GPU",
    "colab": {
      "gpuType": "T4",
      "provenance": []
    },
    "kernelspec": {
      "display_name": "Python 3",
      "name": "python3"
    },
    "language_info": {
      "name": "python"
    }
  },
  "nbformat": 4,
  "nbformat_minor": 0
}