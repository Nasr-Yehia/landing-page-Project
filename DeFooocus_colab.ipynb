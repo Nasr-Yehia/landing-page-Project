{
  "cells": [
    {
      "cell_type": "markdown",
      "metadata": {
        "id": "view-in-github",
        "colab_type": "text"
      },
      "source": [
        "<a href=\"https://colab.research.google.com/github/Nasr-Yehia/landing-page-Project/blob/master/DeFooocus_colab.ipynb\" target=\"_parent\"><img src=\"https://colab.research.google.com/assets/colab-badge.svg\" alt=\"Open In Colab\"/></a>"
      ]
    },
    {
      "cell_type": "code",
      "execution_count": null,
      "metadata": {
        "id": "VjYy0F2gZIPR",
        "cellView": "form"
      },
      "outputs": [],
      "source": [
        "#@title DeFooocus\n",
        "#@markdown **Launch the interface DeFocus (Fooocus fork)** | You need to connect with T4/A100/V100\n",
        "#@markdown ****\n",
        "#@markdown *Attention!* When working in the interface with the FaceSwap and CPDS controlnet, crashes are possible; it is also recommended to work in *Extreme speed* mode for additional stability. When working with the ImagePrompt and PyraCanny controls, 85% of the work will be stable.\n",
        "#@markdown ****\n",
        "\n",
        "print(\"[DeFooocus] Preparing ...\")\n",
        "\n",
        "theme = \"dark\" #@param [\"dark\", \"light\"]\n",
        "preset = \"deafult\" #@param [\"deafult\", \"realistic\", \"anime\", \"lcm\", \"sai\", \"turbo\", \"lighting\", \"hypersd\", \"playground_v2.5\", \"dpo\", \"spo\", \"sd1.5\"]\n",
        "advenced_args = \"--share --attention-split --always-high-vram --disable-offload-from-vram --all-in-fp16\" #@param {type: \"string\"}\n",
        "\n",
        "if preset != \"deafult\":\n",
        "  args = f\"{advenced_args} --theme {theme} --preset {preset}\"\n",
        "else:\n",
        "  args = f\"{advenced_args} --theme {theme}\"\n",
        "\n",
        "!pip install -q pygit2==1.12.2\n",
        "%cd /content\n",
        "!git clone https://github.com/ehristoforu/DeFooocus.git\n",
        "%cd /content/DeFooocus\n",
        "!pip install -q -r requirements_versions.txt\n",
        "\n",
        "\n",
        "CIVITIA_API_KEY='64cb1a77d60c9892244b73f20800094e'\n",
        "# echo $CIVITIA_API_KEY\n",
        "\n",
        "# artists\n",
        "#!wget -q --show-progress -O 'models/loras/beksinski.safetensors' \"https://civitai.com/api/download/models/134483?type=Model&format=SafeTensor&token=$CIVITIA_API_KEY\"\n",
        "\n",
        "# dissolving\n",
        "#!wget -q --show-progress -O 'models/loras/ral-dissolve-sdxl.safetensors' \"https://civitai.com/api/download/models/277389?type=Model&format=SafeTensor&token=$CIVITIA_API_KEY\"\n",
        "\n",
        "# melting\n",
        "#!wget -q --show-progress -O 'models/loras/ral-melting.safetensors' \"https://civitai.com/api/download/models/277422?type=Model&format=SafeTensor&token=$CIVITIA_API_KEY\"\n",
        "\n",
        "# some horror / gore loras\n",
        "# ab0m.safetensors - triggerword - ab0m realistic-abomination-xl-dont-click-body-horror\n",
        "#!wget -q --show-progress -O 'models/loras/ab0m.safetensors' \"https://civitai.com/api/download/models/138296?type=Model&format=SafeTensor&token=$CIVITIA_API_KEY\"\n",
        "\n",
        "# Desolation - Desolation.safetensors - deep blacks, clear, impact\n",
        "#!wget -q --show-progress -O 'models/loras/Desolation.safetensors' \"https://civitai.com/api/download/models/302830?type=Model&format=SafeTensor&token=$CIVITIA_API_KEY\"\n",
        "\n",
        "# Horror landscape\n",
        "# Edob Horror Landscape -keywords EdobHorrorLandscape\n",
        "#!wget -q --show-progress -O 'models/loras/EdobHorrorLandscape_XL_v1.0.safetensors' \"https://civitai.com/api/download/models/253952?type=Model&format=SafeTensor&token=$CIVITIA_API_KEY\"\n",
        "\n",
        "# weird stuff\n",
        "# Trypophobia - EnvyTrypophobiaXL01.safetensors\n",
        "#!wget -q --show-progress -O 'models/loras/EnvyTrypophobiaXL01.safetensors \"https://civitai.com/api/download/models/251533?type=Model&format=SafeTensor&token=$CIVITIA_API_KEY\"\n",
        "\n",
        "# Cordyceps - trigger words -> crdcps, fungal horn, cordyceps infected\n",
        "#!wget -q --show-progress -O 'models/loras/Cordyceps_XL.safetensors' \"https://civitai.com/api/download/models/278487?type=Model&format=SafeTensor&token=$CIVITIA_API_KEY\"\n",
        "\n",
        "# testing some sd loras\n",
        "# Ancient_Creatures_of_Monumental_Proportions.safetensors\n",
        "#!wget -O 'models/loras/Ancient_Creatures_of_Monumental_Proportions.safetensors' \"https://civitai.com/api/download/models/294450?type=Model&format=SafeTensor&token=$CIVITIA_API_KEY\"\n",
        "\n",
        "# [LoRA] [Horror] s4w3d0ff Blend - may not work?\n",
        "#!wget -q --show-progress -O 'models/loras/Horror_Blend_v10.safetensors' \"https://civitai.com/api/download/models/9326?type=Model&format=SafeTensor&size=full&fp=fp16&token=$CIVITIA_API_KEY\"\n",
        "\n",
        "# body horror\n",
        "#!wget -O 'models/loras/disgusting.body.horror.creature.safetensors' \"https://civitai.com/api/download/models/55777?type=Model&format=SafeTensor&token=$CIVITIA_API_KEY\"\n",
        "\n",
        "# checkpoints\n",
        "#!wget -q --show-progress -O 'models/checkpoints/CyberRealistic.Pony.safetensors' \"https://civitai.com/api/download/models/1763661?type=Model&format=SafeTensor&size=full&fp=fp16&token=64cb1a77d60c9892244b73f20800094e\"\n",
        "#!wget -q --show-progress -O 'models/checkpoints/PonyRealism.safetensors' \"https://civitai.com/api/download/models/1763661?type=Model&format=SafeTensor&size=full&fp=fp16&token=64cb1a77d60c9892244b73f20800094e\"\n",
        "#!wget -q --show-progress -O 'models/checkpoints/Realistic_Vision.V6.0.B1.safetensors' \"https://civitai.com/api/download/models/501240?type=Model&format=SafeTensor&size=pruned&fp=fp16&token=64cb1a77d60c9892244b73f20800094e\"\n",
        "!wget -q --show-progress -O 'models/checkpoints/Fluently_XL.safetensors' \"https://civitai.com/api/download/models/643937?type=Model&format=SafeTensor&size=pruned&fp=fp16&token=64cb1a77d60c9892244b73f20800094e\"\n",
        "!wget -q --show-progress -O 'models/checkpoints/Realistic.Stock.Photo.safetensors' \"https://civitai.com/api/download/models/524032?type=Model&format=SafeTensor&size=full&fp=fp16&token=64cb1a77d60c9892244b73f20800094e\"\n",
        "\n",
        "print(\"[DeFooocus] Starting ...\")\n",
        "!python entry_with_update.py $args\n",
        "\n",
        "\n",
        "#!zip -r /content/output.zip /content/Fooocus/outputs/\n",
        "\n",
        "# clean up images before downloading\n",
        "# !rm outputs/2024-01-09/2024-01-09_05-2*.png\n",
        "\n"
      ]
    }
  ],
  "metadata": {
    "accelerator": "GPU",
    "colab": {
      "gpuType": "T4",
      "provenance": [],
      "include_colab_link": true
    },
    "kernelspec": {
      "display_name": "Python 3",
      "name": "python3"
    },
    "language_info": {
      "name": "python"
    }
  },
  "nbformat": 4,
  "nbformat_minor": 0
}